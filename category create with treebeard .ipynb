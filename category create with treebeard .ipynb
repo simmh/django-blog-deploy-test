{
 "cells": [
  {
   "cell_type": "code",
   "execution_count": 10,
   "metadata": {},
   "outputs": [],
   "source": [
    "from core.models import Category\n",
    "get = lambda node_id: Category.objects.get(pk=node_id)\n",
    "\n",
    "\n",
    "    \n",
    "    \n",
    "root_js = Category.add_root(name='Javascript')\n",
    "es5 = get(root_js.pk).add_child(name='ES5')\n",
    "get(es5.pk).add_sibling(name='ES6')\n",
    "get(es5.pk).add_sibling(name='Typescript')\n",
    "get(es5.pk).add_sibling(name='Angular' )\n",
    "\n",
    "root_html = Category.add_root(name='HTML & CSS')\n",
    "root_python = Category.add_root(name='Python')\n",
    "root_python = Category.add_root(name='Computer science')\n",
    "\n"
   ]
  },
  {
   "cell_type": "code",
   "execution_count": 11,
   "metadata": {},
   "outputs": [],
   "source": [
    "django = get(root_python.pk).add_child(name='django')"
   ]
  },
  {
   "cell_type": "code",
   "execution_count": 11,
   "metadata": {
    "scrolled": true
   },
   "outputs": [
    {
     "data": {
      "text/plain": [
       "[{'data': OrderedDict([('status', 'public'),\n",
       "               ('name', 'Computer science'),\n",
       "               ('parent', None),\n",
       "               ('sib_order', 8),\n",
       "               ('slug', '')]),\n",
       "  'id': 18},\n",
       " {'data': OrderedDict([('status', 'public'),\n",
       "               ('name', 'HTML & CSS'),\n",
       "               ('parent', None),\n",
       "               ('sib_order', 6),\n",
       "               ('slug', '')]),\n",
       "  'id': 16},\n",
       " {'children': [{'data': OrderedDict([('status', 'public'),\n",
       "                 ('name', 'Angular'),\n",
       "                 ('parent', None),\n",
       "                 ('sib_order', 1),\n",
       "                 ('slug', '')]),\n",
       "    'id': 15},\n",
       "   {'data': OrderedDict([('status', 'public'),\n",
       "                 ('name', 'ES5'),\n",
       "                 ('parent', None),\n",
       "                 ('sib_order', 1),\n",
       "                 ('slug', '')]),\n",
       "    'id': 12},\n",
       "   {'data': OrderedDict([('status', 'public'),\n",
       "                 ('name', 'ES6'),\n",
       "                 ('parent', None),\n",
       "                 ('sib_order', 1),\n",
       "                 ('slug', '')]),\n",
       "    'id': 13},\n",
       "   {'data': OrderedDict([('status', 'public'),\n",
       "                 ('name', 'Typescript'),\n",
       "                 ('parent', None),\n",
       "                 ('sib_order', 1),\n",
       "                 ('slug', '')]),\n",
       "    'id': 14}],\n",
       "  'data': OrderedDict([('status', 'public'),\n",
       "               ('name', 'Javascript'),\n",
       "               ('parent', None),\n",
       "               ('sib_order', 1),\n",
       "               ('slug', '')]),\n",
       "  'id': 11},\n",
       " {'data': OrderedDict([('status', 'public'),\n",
       "               ('name', 'Python'),\n",
       "               ('parent', None),\n",
       "               ('sib_order', 7),\n",
       "               ('slug', '')]),\n",
       "  'id': 17}]"
      ]
     },
     "execution_count": 11,
     "metadata": {},
     "output_type": "execute_result"
    }
   ],
   "source": [
    "Category.dump_bulk()\n"
   ]
  },
  {
   "cell_type": "code",
   "execution_count": 20,
   "metadata": {},
   "outputs": [
    {
     "name": "stdout",
     "output_type": "stream",
     "text": [
      "computer-science\n",
      "html-css\n",
      "javascript\n",
      "angular\n",
      "es5\n",
      "es6\n",
      "typescript\n",
      "python\n",
      "django\n",
      "\n",
      "\n",
      "\n",
      "\n",
      "\n",
      "\n",
      "\n",
      "\n",
      "\n",
      "\n",
      "\n",
      "\n",
      "\n",
      "\n",
      "\n",
      "\n",
      "\n",
      "\n",
      "\n",
      "\n",
      "\n",
      "\n",
      "\n",
      "\n",
      "\n",
      "\n",
      "\n",
      "\n"
     ]
    }
   ],
   "source": [
    "# 카테고리 슬러그 생성\n",
    "from django.utils.text import slugify\n",
    "\n",
    "for c in Category.objects.all():\n",
    "    print (c.slug)\n",
    "    if not c.slug :\n",
    "        c.slug = slugify(c.name)\n",
    "        c.save()\n",
    "        \n",
    "# 포스트 슬러그 생성\n",
    "for c in Post.objects.all():\n",
    "    print (c.slug)\n",
    "    if not c.slug :\n",
    "        if not c.title:\n",
    "            c.title = c.body[:20]\n",
    "        c.slug = slugify(c.title)\n",
    "        c.save()"
   ]
  },
  {
   "cell_type": "code",
   "execution_count": 19,
   "metadata": {},
   "outputs": [],
   "source": [
    "# 카테고리별 포스트 생성\n",
    "\n",
    "c = Category.objects.get(name='Javascript')\n",
    "p=Post(title='first post', body='first body', category=c)\n",
    "p.save()\n",
    "\n",
    "categories = Category.objects.all()\n",
    "\n",
    "for ca in categories:\n",
    "    for i in range(1,4):\n",
    "        p_title = ca.name + ' #' +str(i)\n",
    "        p_body = ca.name + ' #' +str(i) + 'body text'\n",
    "\n",
    "        p = Post(title=p_title, body = p_body, category = ca)\n",
    "        p.save()"
   ]
  },
  {
   "cell_type": "code",
   "execution_count": 14,
   "metadata": {},
   "outputs": [
    {
     "data": {
      "text/plain": [
       "<MP_NodeQuerySet [<Category: 20 Angular>, <Category: 17 ES5>, <Category: 18 ES6>, <Category: 19 Typescript>]>"
      ]
     },
     "execution_count": 14,
     "metadata": {},
     "output_type": "execute_result"
    }
   ],
   "source": [
    "js = Category.objects.get(name='Javascript')\n",
    "js.get_children()\n"
   ]
  },
  {
   "cell_type": "code",
   "execution_count": 25,
   "metadata": {},
   "outputs": [
    {
     "name": "stdout",
     "output_type": "stream",
     "text": [
      "16 Javascript\n",
      "<MP_NodeQuerySet [<Category: 20 Angular>, <Category: 17 ES5>, <Category: 18 ES6>, <Category: 19 Typescript>]>\n",
      "<QuerySet [<Post: 22 17 ES5 - ES5 #1 - ES5 #1body text>, <Post: 23 17 ES5 - ES5 #2 - ES5 #2body text>, <Post: 24 17 ES5 - ES5 #3 - ES5 #3body text>, <Post: 25 18 ES6 - ES6 #1 - ES6 #1body text>, <Post: 26 18 ES6 - ES6 #2 - ES6 #2body text>, <Post: 27 18 ES6 - ES6 #3 - ES6 #3body text>, <Post: 28 19 Typescript - Typescript #1 - Typescript #1body text>, <Post: 29 19 Typescript - Typescript #2 - Typescript #2body text>, <Post: 30 19 Typescript - Typescript #3 - Typescript #3body text>, <Post: 19 20 Angular - Angular #1 - Angular #1body text>, <Post: 20 20 Angular - Angular #2 - Angular #2body text>, <Post: 21 20 Angular - Angular #3 - Angular #3body text>]>\n"
     ]
    }
   ],
   "source": [
    "from functools import reduce\n",
    "\n",
    "js = Category.objects.get(name='Javascript')\n",
    "categories = js.get_children()\n",
    "\n",
    "print(js)\n",
    "print(categories)\n",
    "\n",
    "queryset = Post.objects.filter(reduce(lambda x, y: x | y, [Q(category=item) for item in categories]))\n",
    "print(queryset)\n",
    "    \n"
   ]
  },
  {
   "cell_type": "code",
   "execution_count": 36,
   "metadata": {},
   "outputs": [
    {
     "name": "stdout",
     "output_type": "stream",
     "text": [
      "22 17 ES5 - ES5 #1 - ES5 #1body text\n",
      "23 17 ES5 - ES5 #2 - ES5 #2body text\n",
      "24 17 ES5 - ES5 #3 - ES5 #3body text\n",
      "25 18 ES6 - ES6 #1 - ES6 #1body text\n",
      "26 18 ES6 - ES6 #2 - ES6 #2body text\n",
      "27 18 ES6 - ES6 #3 - ES6 #3body text\n",
      "28 19 Typescript - Typescript #1 - Typescript #1body text\n",
      "29 19 Typescript - Typescript #2 - Typescript #2body text\n",
      "30 19 Typescript - Typescript #3 - Typescript #3body text\n",
      "19 20 Angular - Angular #1 - Angular #1body text\n",
      "20 20 Angular - Angular #2 - Angular #2body text\n",
      "21 20 Angular - Angular #3 - Angular #3body text\n",
      "32 26 core - javascript core #01 - javascript core #01 body\n"
     ]
    }
   ],
   "source": [
    "categories = Category.objects.get(name='Javascript').get_descendants()\n",
    "\n",
    "queryset = Post.objects.filter(reduce(lambda x, y: x | y, [Q(category=item) for item in categories]))\n",
    "\n",
    "for q in queryset:\n",
    "    print(q)\n",
    "\n"
   ]
  },
  {
   "cell_type": "code",
   "execution_count": 62,
   "metadata": {},
   "outputs": [
    {
     "name": "stdout",
     "output_type": "stream",
     "text": [
      "ca[0]:  (<Category: 27 category>, {'open': True, 'close': [], 'level': 0})\n",
      "ca[0][0].name  category\n",
      " \n",
      "category:  [(<Category: 27 category>, {'open': True, 'close': [], 'level': 0}), (<Category: 23 Computer science>, {'open': True, 'close': [], 'level': 1}), (<Category: 21 HTML & CSS>, {'open': False, 'close': [], 'level': 1}), (<Category: 16 Javascript>, {'open': False, 'close': [], 'level': 1}), (<Category: 20 Angular>, {'open': True, 'close': [], 'level': 2}), (<Category: 17 ES5>, {'open': False, 'close': [], 'level': 2}), (<Category: 18 ES6>, {'open': False, 'close': [], 'level': 2}), (<Category: 19 Typescript>, {'open': False, 'close': [], 'level': 2}), (<Category: 26 core>, {'open': False, 'close': [0], 'level': 2}), (<Category: 22 Python>, {'open': False, 'close': [], 'level': 1}), (<Category: 24 Django>, {'open': True, 'close': [], 'level': 2}), (<Category: 25 core>, {'open': False, 'close': [0, 1, 2], 'level': 2})]\n",
      " \n",
      "<ul>\n",
      "<li>category</li>\n",
      "<ul>\n",
      "<li>Computer science</li>\n",
      "<li>HTML & CSS</li>\n",
      "<li>Javascript</li>\n",
      "<ul>\n",
      "<li>Angular</li>\n",
      "<li>ES5</li>\n",
      "<li>ES6</li>\n",
      "<li>Typescript</li>\n",
      "<li>core</li>\n",
      "</ul>\n",
      "<li>Python</li>\n",
      "<ul>\n",
      "<li>Django</li>\n",
      "<li>core</li>\n",
      "</ul>\n"
     ]
    }
   ],
   "source": [
    "# 카테고리 리스트 \n",
    "ca = Category.get_annotated_list()\n",
    "print('ca[0]: ',ca[0])\n",
    "print('ca[0][0].name ',ca[0][0].name)\n",
    "print(' ')\n",
    "print('category: ', ca)\n",
    "print(' ')\n",
    "\n",
    "for c in ca:\n",
    "    if c[1]['open']:\n",
    "        print('<ul>')    \n",
    "    print('<li>'+ c[0].name+'</li>')\n",
    "    if c[1]['close']:\n",
    "        print('</ul>')\n",
    "\n"
   ]
  },
  {
   "cell_type": "code",
   "execution_count": 63,
   "metadata": {},
   "outputs": [
    {
     "data": {
      "text/plain": [
       "[{'children': [{'data': OrderedDict([('status', 'public'),\n",
       "                 ('name', 'Computer science')]),\n",
       "    'id': 23},\n",
       "   {'data': OrderedDict([('status', 'public'), ('name', 'HTML & CSS')]),\n",
       "    'id': 21},\n",
       "   {'children': [{'data': OrderedDict([('status', 'public'),\n",
       "                   ('name', 'Angular')]),\n",
       "      'id': 20},\n",
       "     {'data': OrderedDict([('status', 'public'), ('name', 'ES5')]), 'id': 17},\n",
       "     {'data': OrderedDict([('status', 'public'), ('name', 'ES6')]), 'id': 18},\n",
       "     {'data': OrderedDict([('status', 'public'), ('name', 'Typescript')]),\n",
       "      'id': 19},\n",
       "     {'data': OrderedDict([('status', 'public'), ('name', 'core')]),\n",
       "      'id': 26}],\n",
       "    'data': OrderedDict([('status', 'public'), ('name', 'Javascript')]),\n",
       "    'id': 16},\n",
       "   {'children': [{'data': OrderedDict([('status', 'public'),\n",
       "                   ('name', 'Django')]),\n",
       "      'id': 24},\n",
       "     {'data': OrderedDict([('status', 'public'), ('name', 'core')]),\n",
       "      'id': 25}],\n",
       "    'data': OrderedDict([('status', 'private'), ('name', 'Python')]),\n",
       "    'id': 22}],\n",
       "  'data': OrderedDict([('status', 'public'), ('name', 'category')]),\n",
       "  'id': 27}]"
      ]
     },
     "execution_count": 63,
     "metadata": {},
     "output_type": "execute_result"
    }
   ],
   "source": [
    "ca = Category.dump_bulk()\n",
    "ca\n",
    "\n",
    "def is_children():\n",
    "    for i in \n",
    "    return"
   ]
  },
  {
   "cell_type": "code",
   "execution_count": 6,
   "metadata": {},
   "outputs": [
    {
     "data": {
      "text/plain": [
       "core.models.Category"
      ]
     },
     "execution_count": 6,
     "metadata": {},
     "output_type": "execute_result"
    }
   ],
   "source": [
    "Category\n"
   ]
  },
  {
   "cell_type": "code",
   "execution_count": 3,
   "metadata": {},
   "outputs": [
    {
     "data": {
      "text/plain": [
       "[(<Category: 8 Computer science>, {'close': [], 'level': 0, 'open': True}),\n",
       " (<Category: 6 HTML & CSS>, {'close': [], 'level': 0, 'open': False}),\n",
       " (<Category: 1 Javascript>, {'close': [], 'level': 0, 'open': False}),\n",
       " (<Category: 5 Angular>, {'close': [], 'level': 1, 'open': True}),\n",
       " (<Category: 2 ES5>, {'close': [], 'level': 1, 'open': False}),\n",
       " (<Category: 3 ES6>, {'close': [], 'level': 1, 'open': False}),\n",
       " (<Category: 4 Typescript>, {'close': [0], 'level': 1, 'open': False}),\n",
       " (<Category: 7 Python>, {'close': [0], 'level': 0, 'open': False})]"
      ]
     },
     "execution_count": 3,
     "metadata": {},
     "output_type": "execute_result"
    }
   ],
   "source": [
    "annotated_list = Category.get_annotated_list()\n",
    "annotated_list"
   ]
  },
  {
   "cell_type": "code",
   "execution_count": 15,
   "metadata": {},
   "outputs": [
    {
     "data": {
      "text/plain": [
       "'[{\"data\": {\"status\": \"public\", \"name\": \"Computer science\"}, \"id\": 8}, {\"data\": {\"status\": \"public\", \"name\": \"HTML & CSS\"}, \"id\": 6}, {\"data\": {\"status\": \"public\", \"name\": \"Javascript\"}, \"id\": 1, \"children\": [{\"data\": {\"status\": \"public\", \"name\": \"Angular\"}, \"id\": 5}, {\"data\": {\"status\": \"public\", \"name\": \"ES5\"}, \"id\": 2}, {\"data\": {\"status\": \"public\", \"name\": \"ES6\"}, \"id\": 3}, {\"data\": {\"status\": \"public\", \"name\": \"Typescript\"}, \"id\": 4}]}, {\"data\": {\"status\": \"public\", \"name\": \"Python\"}, \"id\": 7}]'"
      ]
     },
     "execution_count": 15,
     "metadata": {},
     "output_type": "execute_result"
    }
   ],
   "source": [
    "import json\n",
    "from django.core import serializers\n",
    "\n",
    "\n",
    "# qs_json = serializers.serialize('json', qs)\n",
    "# qs_json\n",
    "\n",
    "data = Category.dump_bulk()\n",
    "js =json.dumps(data)\n",
    "js\n",
    "\n"
   ]
  },
  {
   "cell_type": "code",
   "execution_count": 7,
   "metadata": {},
   "outputs": [
    {
     "ename": "IndexError",
     "evalue": "list index out of range",
     "output_type": "error",
     "traceback": [
      "\u001b[1;31m---------------------------------------------------------------------------\u001b[0m",
      "\u001b[1;31mIndexError\u001b[0m                                Traceback (most recent call last)",
      "\u001b[1;32m<ipython-input-7-0db17259214b>\u001b[0m in \u001b[0;36m<module>\u001b[1;34m()\u001b[0m\n\u001b[0;32m      1\u001b[0m \u001b[0ma\u001b[0m \u001b[1;33m=\u001b[0m \u001b[0mCategory\u001b[0m\u001b[1;33m.\u001b[0m\u001b[0mobjects\u001b[0m\u001b[1;33m.\u001b[0m\u001b[0mall\u001b[0m\u001b[1;33m(\u001b[0m\u001b[1;33m)\u001b[0m\u001b[1;33m.\u001b[0m\u001b[0mcount\u001b[0m\u001b[1;33m(\u001b[0m\u001b[1;33m)\u001b[0m\u001b[1;33m\u001b[0m\u001b[0m\n\u001b[0;32m      2\u001b[0m \u001b[0ma\u001b[0m\u001b[1;33m\u001b[0m\u001b[0m\n\u001b[1;32m----> 3\u001b[1;33m \u001b[0mb\u001b[0m\u001b[1;33m=\u001b[0m \u001b[0mCategory\u001b[0m\u001b[1;33m.\u001b[0m\u001b[0mobjects\u001b[0m\u001b[1;33m.\u001b[0m\u001b[0mall\u001b[0m\u001b[1;33m(\u001b[0m\u001b[1;33m)\u001b[0m\u001b[1;33m[\u001b[0m\u001b[1;36m0\u001b[0m\u001b[1;33m]\u001b[0m\u001b[1;33m.\u001b[0m\u001b[0mnumchild\u001b[0m\u001b[1;33m\u001b[0m\u001b[0m\n\u001b[0m\u001b[0;32m      4\u001b[0m \u001b[0mb\u001b[0m\u001b[1;33m\u001b[0m\u001b[0m\n",
      "\u001b[1;32m~\\Envs\\blog\\lib\\site-packages\\django\\db\\models\\query.py\u001b[0m in \u001b[0;36m__getitem__\u001b[1;34m(self, k)\u001b[0m\n\u001b[0;32m    305\u001b[0m         \u001b[0mqs\u001b[0m\u001b[1;33m.\u001b[0m\u001b[0mquery\u001b[0m\u001b[1;33m.\u001b[0m\u001b[0mset_limits\u001b[0m\u001b[1;33m(\u001b[0m\u001b[0mk\u001b[0m\u001b[1;33m,\u001b[0m \u001b[0mk\u001b[0m \u001b[1;33m+\u001b[0m \u001b[1;36m1\u001b[0m\u001b[1;33m)\u001b[0m\u001b[1;33m\u001b[0m\u001b[0m\n\u001b[0;32m    306\u001b[0m         \u001b[0mqs\u001b[0m\u001b[1;33m.\u001b[0m\u001b[0m_fetch_all\u001b[0m\u001b[1;33m(\u001b[0m\u001b[1;33m)\u001b[0m\u001b[1;33m\u001b[0m\u001b[0m\n\u001b[1;32m--> 307\u001b[1;33m         \u001b[1;32mreturn\u001b[0m \u001b[0mqs\u001b[0m\u001b[1;33m.\u001b[0m\u001b[0m_result_cache\u001b[0m\u001b[1;33m[\u001b[0m\u001b[1;36m0\u001b[0m\u001b[1;33m]\u001b[0m\u001b[1;33m\u001b[0m\u001b[0m\n\u001b[0m\u001b[0;32m    308\u001b[0m \u001b[1;33m\u001b[0m\u001b[0m\n\u001b[0;32m    309\u001b[0m     \u001b[1;32mdef\u001b[0m \u001b[0m__and__\u001b[0m\u001b[1;33m(\u001b[0m\u001b[0mself\u001b[0m\u001b[1;33m,\u001b[0m \u001b[0mother\u001b[0m\u001b[1;33m)\u001b[0m\u001b[1;33m:\u001b[0m\u001b[1;33m\u001b[0m\u001b[0m\n",
      "\u001b[1;31mIndexError\u001b[0m: list index out of range"
     ]
    }
   ],
   "source": [
    "a = Category.objects.all().count()\n",
    "a\n",
    "\n"
   ]
  },
  {
   "cell_type": "code",
   "execution_count": null,
   "metadata": {},
   "outputs": [],
   "source": []
  }
 ],
 "metadata": {
  "kernelspec": {
   "display_name": "Django Shell-Plus",
   "language": "python",
   "name": "django_extensions"
  },
  "language_info": {
   "codemirror_mode": {
    "name": "ipython",
    "version": 3
   },
   "file_extension": ".py",
   "mimetype": "text/x-python",
   "name": "python",
   "nbconvert_exporter": "python",
   "pygments_lexer": "ipython3",
   "version": "3.6.4"
  }
 },
 "nbformat": 4,
 "nbformat_minor": 2
}
