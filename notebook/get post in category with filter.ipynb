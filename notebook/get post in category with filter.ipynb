{
 "cells": [
  {
   "cell_type": "code",
   "execution_count": null,
   "metadata": {},
   "outputs": [],
   "source": [
    "from functools import reduce\n",
    "\n",
    "brands = ['ABC','DEF' , 'GHI']\n",
    "\n",
    "queryset = Product.objects.filter(reduce(lambda x, y: x | y, [Q(brand=item) for item in brands]))"
   ]
  },
  {
   "cell_type": "code",
   "execution_count": 3,
   "metadata": {},
   "outputs": [
    {
     "name": "stdout",
     "output_type": "stream",
     "text": [
      "<QuerySet [<Post: 1 16 Javascript - first post - first body>, <Post: 2 16 Javascript - first post - first body>, <Post: 3 16 Javascript - first post - first body>, <Post: 16 16 Javascript - Javascript #1 - Javascript #1body text>, <Post: 17 16 Javascript - Javascript #2 - Javascript #2body text>, <Post: 18 16 Javascript - Javascript #3 - Javascript #3body text>, <Post: 22 17 ES5 - ES5 #1 - ES5 #1body text>, <Post: 23 17 ES5 - ES5 #2 - ES5 #2body text>, <Post: 24 17 ES5 - ES5 #3 - ES5 #3body text>, <Post: 25 18 ES6 - ES6 #1 - ES6 #1body text>, <Post: 26 18 ES6 - ES6 #2 - ES6 #2body text>, <Post: 27 18 ES6 - ES6 #3 - ES6 #3body text>]>\n"
     ]
    }
   ],
   "source": [
    "from functools import reduce\n",
    "\n",
    "category = ['Javascript', 'ES5', 'ES6']\n",
    "\n",
    "queryset = Post.objects.filter(reduce(lambda x, y: x | y, [Q(category__name=item) for item in category]))\n",
    "print(queryset)"
   ]
  },
  {
   "cell_type": "code",
   "execution_count": null,
   "metadata": {},
   "outputs": [],
   "source": []
  }
 ],
 "metadata": {
  "kernelspec": {
   "display_name": "Django Shell-Plus",
   "language": "python",
   "name": "django_extensions"
  },
  "language_info": {
   "codemirror_mode": {
    "name": "ipython",
    "version": 3
   },
   "file_extension": ".py",
   "mimetype": "text/x-python",
   "name": "python",
   "nbconvert_exporter": "python",
   "pygments_lexer": "ipython3",
   "version": "3.6.4"
  }
 },
 "nbformat": 4,
 "nbformat_minor": 2
}
